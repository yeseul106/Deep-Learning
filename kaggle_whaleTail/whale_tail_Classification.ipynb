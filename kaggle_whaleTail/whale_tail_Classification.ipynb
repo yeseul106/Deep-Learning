{
  "nbformat": 4,
  "nbformat_minor": 0,
  "metadata": {
    "colab": {
      "name": "whale_tail_Classification.ipynb",
      "provenance": [],
      "collapsed_sections": [],
      "authorship_tag": "ABX9TyOxdro6zYIVdHlIaBdEbFNU",
      "include_colab_link": true
    },
    "kernelspec": {
      "name": "python3",
      "display_name": "Python 3"
    },
    "accelerator": "GPU"
  },
  "cells": [
    {
      "cell_type": "markdown",
      "metadata": {
        "id": "view-in-github",
        "colab_type": "text"
      },
      "source": [
        "<a href=\"https://colab.research.google.com/github/yeseul106/Deep-Learning/blob/master/whale_tail_Classification.ipynb\" target=\"_parent\"><img src=\"https://colab.research.google.com/assets/colab-badge.svg\" alt=\"Open In Colab\"/></a>"
      ]
    },
    {
      "cell_type": "code",
      "metadata": {
        "colab": {
          "base_uri": "https://localhost:8080/"
        },
        "id": "zVgku-Qu7nG8",
        "outputId": "d6723921-c2f8-4b16-a0cd-bf8eb375ac8a"
      },
      "source": [
        "from google.colab import drive\r\n",
        "drive.mount('/content/gdrive')\r\n",
        "\r\n",
        "import os\r\n",
        "import numpy as np\r\n",
        "import pandas as pd\r\n",
        "import tensorflow as tf\r\n",
        "import matplotlib.pyplot as plt\r\n",
        "import cv2\r\n",
        "from keras.utils import np_utils\r\n",
        "from sklearn.model_selection import train_test_split\r\n",
        "from keras.models import Sequential\r\n",
        "from keras.layers import Embedding, Dense, Flatten, GlobalMaxPooling2D, Conv2D, Dropout, MaxPooling2D\r\n",
        "from tensorflow.keras.preprocessing.image import ImageDataGenerator\r\n",
        "from tensorflow.keras import optimizers\r\n",
        "\r\n",
        "np.random.seed(3)\r\n",
        "tf.random.set_seed(3)"
      ],
      "execution_count": null,
      "outputs": [
        {
          "output_type": "stream",
          "text": [
            "Mounted at /content/gdrive\n"
          ],
          "name": "stdout"
        }
      ]
    },
    {
      "cell_type": "code",
      "metadata": {
        "id": "KPG6xp2B-yIr",
        "colab": {
          "base_uri": "https://localhost:8080/"
        },
        "outputId": "5484c1bc-fe5a-401d-c7c4-df652ebebc47"
      },
      "source": [
        "'''category가 몇개 있는지 확인 (고래의 종류)'''\r\n",
        "df = pd.read_csv('/content/gdrive/My Drive/Colab Notebooks/train.csv')\r\n",
        "# train_df.head()\r\n",
        "category_num=len(df['Id'].unique())  #4251 (고래의 종류가 4251가지)\r\n",
        "df['Id'].value_counts()\r\n",
        "\r\n",
        "'''각 카테고리가 몇개씩 있는지 확인'''\r\n",
        "group_df = df.groupby('Id').count()\r\n",
        "group_df = group_df.reset_index()\r\n",
        "print(group_df.sort_values(by='Image'))\r\n",
        "# print(group_df)\r\n",
        "\r\n",
        "'''10개 이하의 이미지를 가진 카테고리 제거'''\r\n",
        "valid_category = []\r\n",
        "valid_category = group_df[group_df.Image>10]\r\n",
        "print(len(valid_category))\r\n",
        "# print(valid_category.sort_values(by='Image'))\r\n",
        "\r\n",
        "'''train 데이터와 test 데이터 나누기'''\r\n",
        "df = df[df['Id'].isin(valid_category['Id'])]  #1699 rows X 2 columns\r\n",
        "print(df)\r\n",
        "# train_size = (int)(len(df)*0.7)\r\n",
        "# train_df = df[:train_size]\r\n",
        "# test_df = df[train_size:]  <== 문제점은 trian_set과 test_set에 카테고리 비율이 다름\r\n",
        "train_df, test_df = train_test_split(df,test_size=0.3, stratify=df['Id'])"
      ],
      "execution_count": null,
      "outputs": [
        {
          "output_type": "stream",
          "text": [
            "             Id  Image\n",
            "4250  w_ffdab7a      1\n",
            "1640  w_6384242      1\n",
            "1641  w_6398e9d      1\n",
            "1642  w_639aed5      1\n",
            "2956  w_b170173      1\n",
            "...         ...    ...\n",
            "498   w_1eafe46     23\n",
            "1951  w_7554f44     26\n",
            "2580  w_98baff9     27\n",
            "310   w_1287fbc     34\n",
            "0     new_whale    810\n",
            "\n",
            "[4251 rows x 2 columns]\n",
            "57\n",
            "             Image         Id\n",
            "1     000466c4.jpg  w_1287fbc\n",
            "2     00087b01.jpg  w_da2efe0\n",
            "7     0031c258.jpg  new_whale\n",
            "13    00467ae9.jpg  w_fd1cb9d\n",
            "19    007c3603.jpg  new_whale\n",
            "...            ...        ...\n",
            "9826  ff4bb3a4.jpg  w_2d99a0c\n",
            "9828  ff6946b4.jpg  w_17ee910\n",
            "9834  ff9d60a3.jpg  w_eb0a6ed\n",
            "9837  ffb71ac2.jpg  new_whale\n",
            "9844  ffd1e7aa.jpg  new_whale\n",
            "\n",
            "[1699 rows x 2 columns]\n"
          ],
          "name": "stdout"
        }
      ]
    },
    {
      "cell_type": "code",
      "metadata": {
        "id": "0WnMVKuM5zPz",
        "colab": {
          "base_uri": "https://localhost:8080/"
        },
        "outputId": "23f00b08-784b-4fa6-eb3b-b885add6189e"
      },
      "source": [
        "'''이미지 부풀리기'''\r\n",
        "train_datagen = ImageDataGenerator(rescale=1./255, horizontal_flip=True, width_shift_range=0.2, height_shift_range=0.2,\r\n",
        "                                   rotation_range=15, shear_range=0.7, fill_mode='nearest')\r\n",
        "\r\n",
        "train_generator = train_datagen.flow_from_dataframe(\r\n",
        "    dataframe= train_df, #데이터 프레임\r\n",
        "    directory= '/content/gdrive/My Drive/Colab Notebooks/train', #데이터 위치\r\n",
        "    x_col = 'Image', #파일 위치 열이름\r\n",
        "    y_col = 'Id',  #분류할 클래스 열이름\r\n",
        "    target_size=(200, 200),\r\n",
        "    batch_size=30,\r\n",
        "    class_mode='categorical')\r\n",
        "\r\n",
        "test_datagen = ImageDataGenerator(rescale=1./255)\r\n",
        "\r\n",
        "test_generator = test_datagen.flow_from_dataframe(\r\n",
        "    dataframe= test_df, #데이터 프레임\r\n",
        "    directory= '/content/gdrive/My Drive/Colab Notebooks/train',  #데이터 위치\r\n",
        "    x_col= 'Image', #파일 위치 열이름\r\n",
        "    y_col = 'Id', #분류할 클래스 열이름\r\n",
        "    target_size=(200, 200),\r\n",
        "    batch_size=30,\r\n",
        "    class_mode='categorical')\r\n",
        "\r\n",
        "'''전이 학습을 위해 VGG16을 나의 네트워크 전에 삽입한다!'''\r\n",
        "from keras.applications.vgg16 import VGG16\r\n",
        "\r\n",
        "transfer_model = VGG16(weights='imagenet', include_top=False, input_shape=(200,200,3))\r\n",
        "transfer_model.trainable= False  #학습 시킬 것이 아니므로 False\r\n",
        "final_model= Sequential()\r\n",
        "final_model.add(transfer_model)\r\n",
        "final_model.add(Dropout(0.3))\r\n",
        "final_model.add(Flatten())\r\n",
        "final_model.add(Dense(256,activation='relu'))\r\n",
        "final_model.add(Dropout(0.3))\r\n",
        "final_model.add(Dense(57, activation='softmax'))\r\n",
        "\r\n",
        "# '''set CNN model'''\r\n",
        "# model = Sequential()\r\n",
        "# model.add(Conv2D(32, kernel_size=(3, 3), input_shape=(100, 100, 3), activation='relu'))\r\n",
        "# model.add(MaxPooling2D(pool_size=(2, 2)))\r\n",
        "\r\n",
        "# model.add(Conv2D(64,(3, 3), activation='relu'))\r\n",
        "# model.add(MaxPooling2D(pool_size=(2, 2)))\r\n",
        "\r\n",
        "# model.add(Dropout(0.3))\r\n",
        "# model.add(Flatten())\r\n",
        "# model.add(Dense(128, activation='relu'))\r\n",
        "# model.add(Dropout(0.5))\r\n",
        "# model.add(Dense(4251, activation='softmax'))  #출력층 노드 5개\r\n",
        "\r\n",
        "final_model.compile(loss='categorical_crossentropy', optimizer='adam', metrics=['accuracy'])\r\n",
        "\r\n",
        "history = final_model.fit_generator(\r\n",
        "    train_generator,\r\n",
        "    steps_per_epoch=10, epochs=30, validation_data= test_generator, validation_steps=4)"
      ],
      "execution_count": null,
      "outputs": [
        {
          "output_type": "stream",
          "text": [
            "Found 1189 validated image filenames belonging to 57 classes.\n",
            "Found 510 validated image filenames belonging to 57 classes.\n"
          ],
          "name": "stdout"
        },
        {
          "output_type": "stream",
          "text": [
            "/usr/local/lib/python3.6/dist-packages/tensorflow/python/keras/engine/training.py:1844: UserWarning: `Model.fit_generator` is deprecated and will be removed in a future version. Please use `Model.fit`, which supports generators.\n",
            "  warnings.warn('`Model.fit_generator` is deprecated and '\n"
          ],
          "name": "stderr"
        },
        {
          "output_type": "stream",
          "text": [
            "Epoch 1/30\n",
            "10/10 [==============================] - 7s 627ms/step - loss: 5.0627 - accuracy: 0.2449 - val_loss: 3.2323 - val_accuracy: 0.4250\n",
            "Epoch 2/30\n",
            "10/10 [==============================] - 6s 591ms/step - loss: 3.2403 - accuracy: 0.4342 - val_loss: 3.0363 - val_accuracy: 0.4417\n",
            "Epoch 3/30\n",
            "10/10 [==============================] - 6s 598ms/step - loss: 2.8758 - accuracy: 0.4774 - val_loss: 2.9146 - val_accuracy: 0.4500\n",
            "Epoch 4/30\n",
            "10/10 [==============================] - 6s 588ms/step - loss: 2.7282 - accuracy: 0.5260 - val_loss: 2.7046 - val_accuracy: 0.4917\n",
            "Epoch 5/30\n",
            "10/10 [==============================] - 6s 594ms/step - loss: 2.9087 - accuracy: 0.4825 - val_loss: 2.7419 - val_accuracy: 0.4667\n",
            "Epoch 6/30\n",
            "10/10 [==============================] - 6s 587ms/step - loss: 2.9236 - accuracy: 0.4647 - val_loss: 2.7800 - val_accuracy: 0.4583\n",
            "Epoch 7/30\n",
            "10/10 [==============================] - 6s 576ms/step - loss: 2.9120 - accuracy: 0.4362 - val_loss: 2.8223 - val_accuracy: 0.4333\n",
            "Epoch 8/30\n",
            "10/10 [==============================] - 6s 592ms/step - loss: 2.7240 - accuracy: 0.4685 - val_loss: 2.6555 - val_accuracy: 0.4667\n",
            "Epoch 9/30\n",
            "10/10 [==============================] - 6s 574ms/step - loss: 2.7072 - accuracy: 0.5009 - val_loss: 2.5272 - val_accuracy: 0.4833\n",
            "Epoch 10/30\n",
            "10/10 [==============================] - 6s 574ms/step - loss: 2.5154 - accuracy: 0.5047 - val_loss: 2.7971 - val_accuracy: 0.4167\n",
            "Epoch 11/30\n",
            "10/10 [==============================] - 6s 585ms/step - loss: 2.7559 - accuracy: 0.4601 - val_loss: 2.3547 - val_accuracy: 0.5333\n",
            "Epoch 12/30\n",
            "10/10 [==============================] - 6s 594ms/step - loss: 2.8468 - accuracy: 0.4146 - val_loss: 2.7559 - val_accuracy: 0.4500\n",
            "Epoch 13/30\n",
            "10/10 [==============================] - 6s 597ms/step - loss: 2.8120 - accuracy: 0.4775 - val_loss: 2.7323 - val_accuracy: 0.4333\n",
            "Epoch 14/30\n",
            "10/10 [==============================] - 6s 597ms/step - loss: 2.6257 - accuracy: 0.4709 - val_loss: 2.6277 - val_accuracy: 0.4750\n",
            "Epoch 15/30\n",
            "10/10 [==============================] - 6s 585ms/step - loss: 2.4815 - accuracy: 0.5261 - val_loss: 2.7089 - val_accuracy: 0.4500\n",
            "Epoch 16/30\n",
            "10/10 [==============================] - 6s 589ms/step - loss: 2.5740 - accuracy: 0.5109 - val_loss: 2.5352 - val_accuracy: 0.4917\n",
            "Epoch 17/30\n",
            "10/10 [==============================] - 6s 588ms/step - loss: 2.4495 - accuracy: 0.5146 - val_loss: 2.5993 - val_accuracy: 0.4583\n",
            "Epoch 18/30\n",
            "10/10 [==============================] - 6s 596ms/step - loss: 2.4168 - accuracy: 0.4963 - val_loss: 2.6865 - val_accuracy: 0.4250\n",
            "Epoch 19/30\n",
            "10/10 [==============================] - 6s 589ms/step - loss: 2.6157 - accuracy: 0.4556 - val_loss: 2.7318 - val_accuracy: 0.4083\n",
            "Epoch 20/30\n",
            "10/10 [==============================] - 6s 572ms/step - loss: 2.6464 - accuracy: 0.4707 - val_loss: 2.5450 - val_accuracy: 0.4833\n",
            "Epoch 21/30\n",
            "10/10 [==============================] - 6s 590ms/step - loss: 2.5483 - accuracy: 0.4724 - val_loss: 2.2731 - val_accuracy: 0.5417\n",
            "Epoch 22/30\n",
            "10/10 [==============================] - 6s 565ms/step - loss: 2.6033 - accuracy: 0.4777 - val_loss: 2.4135 - val_accuracy: 0.5250\n",
            "Epoch 23/30\n",
            "10/10 [==============================] - 6s 591ms/step - loss: 2.4868 - accuracy: 0.4848 - val_loss: 2.9571 - val_accuracy: 0.3667\n",
            "Epoch 24/30\n",
            "10/10 [==============================] - 6s 605ms/step - loss: 2.3255 - accuracy: 0.5168 - val_loss: 2.5722 - val_accuracy: 0.4417\n",
            "Epoch 25/30\n",
            "10/10 [==============================] - 6s 576ms/step - loss: 2.3315 - accuracy: 0.5203 - val_loss: 2.2303 - val_accuracy: 0.5167\n",
            "Epoch 26/30\n",
            "10/10 [==============================] - 6s 569ms/step - loss: 2.3713 - accuracy: 0.5109 - val_loss: 2.5316 - val_accuracy: 0.4583\n",
            "Epoch 27/30\n",
            "10/10 [==============================] - 6s 597ms/step - loss: 2.5239 - accuracy: 0.4622 - val_loss: 2.7466 - val_accuracy: 0.3917\n",
            "Epoch 28/30\n",
            "10/10 [==============================] - 6s 585ms/step - loss: 2.3735 - accuracy: 0.4744 - val_loss: 2.2474 - val_accuracy: 0.5333\n",
            "Epoch 29/30\n",
            "10/10 [==============================] - 6s 584ms/step - loss: 2.3086 - accuracy: 0.5020 - val_loss: 2.4180 - val_accuracy: 0.4833\n",
            "Epoch 30/30\n",
            "10/10 [==============================] - 6s 602ms/step - loss: 2.3152 - accuracy: 0.4694 - val_loss: 2.2984 - val_accuracy: 0.4917\n"
          ],
          "name": "stdout"
        }
      ]
    },
    {
      "cell_type": "code",
      "metadata": {
        "colab": {
          "base_uri": "https://localhost:8080/"
        },
        "id": "aAlSXMYvJFux",
        "outputId": "fa4db9ef-1514-4859-bd1d-73982c4bfa3d"
      },
      "source": [
        "'''미세조정'''\r\n",
        "transfer_model.trainable = True\r\n",
        "\r\n",
        "from keras.optimizers import Adam\r\n",
        "\r\n",
        "final_model.compile(optimizer=Adam(1e-5), \r\n",
        "              loss='categorical_crossentropy',\r\n",
        "              metrics=['accuracy']\r\n",
        ")\r\n",
        "\r\n",
        "history = final_model.fit_generator(\r\n",
        "    train_generator,\r\n",
        "    steps_per_epoch=10, epochs=30, validation_data= test_generator, validation_steps=4)\r\n"
      ],
      "execution_count": null,
      "outputs": [
        {
          "output_type": "stream",
          "text": [
            "/usr/local/lib/python3.6/dist-packages/tensorflow/python/keras/engine/training.py:1844: UserWarning: `Model.fit_generator` is deprecated and will be removed in a future version. Please use `Model.fit`, which supports generators.\n",
            "  warnings.warn('`Model.fit_generator` is deprecated and '\n"
          ],
          "name": "stderr"
        },
        {
          "output_type": "stream",
          "text": [
            "Epoch 1/30\n",
            "10/10 [==============================] - 8s 696ms/step - loss: 2.3497 - accuracy: 0.4766 - val_loss: 2.0744 - val_accuracy: 0.5167\n",
            "Epoch 2/30\n",
            "10/10 [==============================] - 7s 682ms/step - loss: 2.3076 - accuracy: 0.5141 - val_loss: 2.2157 - val_accuracy: 0.5167\n",
            "Epoch 3/30\n",
            "10/10 [==============================] - 7s 685ms/step - loss: 2.3340 - accuracy: 0.4660 - val_loss: 2.6404 - val_accuracy: 0.4500\n",
            "Epoch 4/30\n",
            "10/10 [==============================] - 7s 683ms/step - loss: 2.0772 - accuracy: 0.5200 - val_loss: 2.1867 - val_accuracy: 0.5500\n",
            "Epoch 5/30\n",
            "10/10 [==============================] - 7s 677ms/step - loss: 2.2535 - accuracy: 0.5353 - val_loss: 2.1981 - val_accuracy: 0.5167\n",
            "Epoch 6/30\n",
            "10/10 [==============================] - 7s 688ms/step - loss: 2.2465 - accuracy: 0.5009 - val_loss: 2.3900 - val_accuracy: 0.4667\n",
            "Epoch 7/30\n",
            "10/10 [==============================] - 7s 687ms/step - loss: 2.3745 - accuracy: 0.4310 - val_loss: 2.1905 - val_accuracy: 0.5167\n",
            "Epoch 8/30\n",
            "10/10 [==============================] - 7s 677ms/step - loss: 2.0810 - accuracy: 0.5005 - val_loss: 2.2349 - val_accuracy: 0.4583\n",
            "Epoch 9/30\n",
            "10/10 [==============================] - 7s 679ms/step - loss: 2.0543 - accuracy: 0.5377 - val_loss: 2.0211 - val_accuracy: 0.5250\n",
            "Epoch 10/30\n",
            "10/10 [==============================] - 7s 674ms/step - loss: 1.9388 - accuracy: 0.5425 - val_loss: 2.1561 - val_accuracy: 0.4833\n",
            "Epoch 11/30\n",
            "10/10 [==============================] - 7s 686ms/step - loss: 2.2894 - accuracy: 0.4864 - val_loss: 2.4628 - val_accuracy: 0.4167\n",
            "Epoch 12/30\n",
            "10/10 [==============================] - 7s 674ms/step - loss: 2.1503 - accuracy: 0.4880 - val_loss: 2.1351 - val_accuracy: 0.5083\n",
            "Epoch 13/30\n",
            "10/10 [==============================] - 7s 665ms/step - loss: 2.1304 - accuracy: 0.4803 - val_loss: 2.3989 - val_accuracy: 0.4833\n",
            "Epoch 14/30\n",
            "10/10 [==============================] - 7s 679ms/step - loss: 2.0685 - accuracy: 0.5355 - val_loss: 1.9840 - val_accuracy: 0.5833\n",
            "Epoch 15/30\n",
            "10/10 [==============================] - 7s 678ms/step - loss: 2.1329 - accuracy: 0.4733 - val_loss: 2.2028 - val_accuracy: 0.5250\n",
            "Epoch 16/30\n",
            "10/10 [==============================] - 7s 684ms/step - loss: 1.9935 - accuracy: 0.5535 - val_loss: 2.3781 - val_accuracy: 0.4250\n",
            "Epoch 17/30\n",
            "10/10 [==============================] - 7s 681ms/step - loss: 2.0274 - accuracy: 0.5008 - val_loss: 2.2621 - val_accuracy: 0.4833\n",
            "Epoch 18/30\n",
            "10/10 [==============================] - 7s 684ms/step - loss: 2.0989 - accuracy: 0.4734 - val_loss: 2.3849 - val_accuracy: 0.4917\n",
            "Epoch 19/30\n",
            "10/10 [==============================] - 7s 660ms/step - loss: 2.0337 - accuracy: 0.4723 - val_loss: 2.3973 - val_accuracy: 0.4167\n",
            "Epoch 20/30\n",
            "10/10 [==============================] - 7s 672ms/step - loss: 2.1339 - accuracy: 0.4760 - val_loss: 1.9700 - val_accuracy: 0.5167\n",
            "Epoch 21/30\n",
            "10/10 [==============================] - 7s 679ms/step - loss: 2.1219 - accuracy: 0.4621 - val_loss: 2.3927 - val_accuracy: 0.4583\n",
            "Epoch 22/30\n",
            "10/10 [==============================] - 7s 685ms/step - loss: 2.3136 - accuracy: 0.4216 - val_loss: 2.1517 - val_accuracy: 0.4833\n",
            "Epoch 23/30\n",
            "10/10 [==============================] - 7s 669ms/step - loss: 2.0830 - accuracy: 0.4601 - val_loss: 2.0889 - val_accuracy: 0.5083\n",
            "Epoch 24/30\n",
            "10/10 [==============================] - 7s 658ms/step - loss: 1.7926 - accuracy: 0.5488 - val_loss: 1.7448 - val_accuracy: 0.5750\n",
            "Epoch 25/30\n",
            "10/10 [==============================] - 7s 685ms/step - loss: 2.1705 - accuracy: 0.4665 - val_loss: 2.0277 - val_accuracy: 0.5000\n",
            "Epoch 26/30\n",
            "10/10 [==============================] - 7s 664ms/step - loss: 2.0256 - accuracy: 0.4566 - val_loss: 2.3521 - val_accuracy: 0.4750\n",
            "Epoch 27/30\n",
            "10/10 [==============================] - 7s 684ms/step - loss: 2.0046 - accuracy: 0.5092 - val_loss: 2.2076 - val_accuracy: 0.4750\n",
            "Epoch 28/30\n",
            "10/10 [==============================] - 7s 679ms/step - loss: 1.8938 - accuracy: 0.5172 - val_loss: 2.2362 - val_accuracy: 0.4250\n",
            "Epoch 29/30\n",
            "10/10 [==============================] - 7s 676ms/step - loss: 2.0343 - accuracy: 0.4735 - val_loss: 2.0193 - val_accuracy: 0.5250\n",
            "Epoch 30/30\n",
            "10/10 [==============================] - 7s 684ms/step - loss: 1.8972 - accuracy: 0.4832 - val_loss: 2.4342 - val_accuracy: 0.4250\n"
          ],
          "name": "stdout"
        }
      ]
    },
    {
      "cell_type": "code",
      "metadata": {
        "id": "I_UtYcY6_1IR",
        "colab": {
          "base_uri": "https://localhost:8080/",
          "height": 333
        },
        "outputId": "d52c7909-822e-461d-f761-efe99305c3d0"
      },
      "source": [
        " '''model 평가하기'''\r\n",
        "scores = final_model.evaluate_generator(\r\n",
        "            test_generator, \r\n",
        "            steps = 5)\r\n",
        "\r\n",
        "print(\"Test %s: %.2f%%\" %(final_model.metrics_names[1], scores[1]*100))\r\n",
        "\r\n",
        " '''graph로 표현'''\r\n",
        "y_vloss = history.history['val_loss']  #테스트셋 오차\r\n",
        "y_loss = history.history['loss']  #학습셋 오차\r\n",
        "y_vacc = history.history['val_accuracy']  #테스트셋 정확률\r\n",
        "y_acc = history.history['accuracy']  #학습셋 정확률\r\n",
        "\r\n",
        "x_len = np.arange(len(y_loss))\r\n",
        "plt.plot(x_len, y_acc, marker='.', c='red', label='Trainset_acc')\r\n",
        "plt.plot(x_len, y_vacc, marker='.', c='lightcoral', label='Testset_acc')\r\n",
        "plt.plot(x_len, y_loss, marker='.', c='blue', label='Trainset_loss')\r\n",
        "plt.plot(x_len, y_vloss, marker='.', c='cornflowerblue', label='Testset_loss')\r\n",
        "\r\n",
        "plt.legend(loc='upper right')\r\n",
        "plt.grid()\r\n",
        "plt.xlabel('epoch')\r\n",
        "plt.ylabel('loss/acc')\r\n",
        "plt.show()\r\n"
      ],
      "execution_count": null,
      "outputs": [
        {
          "output_type": "stream",
          "text": [
            "/usr/local/lib/python3.6/dist-packages/tensorflow/python/keras/engine/training.py:1877: UserWarning: `Model.evaluate_generator` is deprecated and will be removed in a future version. Please use `Model.evaluate`, which supports generators.\n",
            "  warnings.warn('`Model.evaluate_generator` is deprecated and '\n"
          ],
          "name": "stderr"
        },
        {
          "output_type": "stream",
          "text": [
            "Test accuracy: 51.33%\n"
          ],
          "name": "stdout"
        },
        {
          "output_type": "display_data",
          "data": {
            "image/png": "[encoded data removed]",
            "text/plain": [
              "<Figure size 432x288 with 1 Axes>"
            ]
          },
          "metadata": {
            "tags": [],
            "needs_background": "light"
          }
        }
      ]
    },
    {
      "cell_type": "code",
      "metadata": {
        "id": "fh-6g-YrNTLH"
      },
      "source": [
        ""
      ],
      "execution_count": null,
      "outputs": []
    }
  ]
}